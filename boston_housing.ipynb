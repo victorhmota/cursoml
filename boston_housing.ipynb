{
  "nbformat": 4,
  "nbformat_minor": 0,
  "metadata": {
    "colab": {
      "name": "boston_housing.ipynb",
      "provenance": [],
      "mount_file_id": "1NOtxKQ0LhZtnJXwJCS63j11jOT348XYP",
      "authorship_tag": "ABX9TyNEizI+5oPEYyNst5SzGnV0",
      "include_colab_link": true
    },
    "kernelspec": {
      "name": "python3",
      "display_name": "Python 3"
    }
  },
  "cells": [
    {
      "cell_type": "markdown",
      "metadata": {
        "id": "view-in-github",
        "colab_type": "text"
      },
      "source": [
        "<a href=\"https://colab.research.google.com/github/victorhmota/cursoml/blob/main/boston_housing.ipynb\" target=\"_parent\"><img src=\"https://colab.research.google.com/assets/colab-badge.svg\" alt=\"Open In Colab\"/></a>"
      ]
    },
    {
      "cell_type": "code",
      "metadata": {
        "id": "-O2bk6jbZjUS"
      },
      "source": [
        "import pandas as pd\r\n",
        "import numpy as np"
      ],
      "execution_count": null,
      "outputs": []
    },
    {
      "cell_type": "code",
      "metadata": {
        "id": "MeyHhy0GawV7"
      },
      "source": [
        "#Definindo uma seed\r\n",
        "seed = 10\r\n",
        "np.random.seed(seed)"
      ],
      "execution_count": null,
      "outputs": []
    },
    {
      "cell_type": "code",
      "metadata": {
        "id": "JB5Lz6kXa4Br"
      },
      "source": [
        "%matplotlib inline\r\n",
        "import matplotlib as mpl\r\n",
        "import matplotlib.pyplot as plt\r\n",
        "\r\n",
        "mpl.rc('axes', labelsize = 14)\r\n",
        "mpl.rc('xtick', labelsize= 12)\r\n",
        "mpl.rc('ytick', labelsize=12)"
      ],
      "execution_count": null,
      "outputs": []
    },
    {
      "cell_type": "code",
      "metadata": {
        "id": "l6PatchBbchz"
      },
      "source": [
        "import warnings\r\n",
        "warnings.filterwarnings(action=\"ignore\", message=\"^internal gelsd\")"
      ],
      "execution_count": null,
      "outputs": []
    },
    {
      "cell_type": "code",
      "metadata": {
        "id": "JYy_Htuocixj"
      },
      "source": [
        "#Obtendo os dados\r\n",
        "from sklearn.datasets import load_boston\r\n",
        "housing = load_boston()"
      ],
      "execution_count": null,
      "outputs": []
    },
    {
      "cell_type": "code",
      "metadata": {
        "id": "tlmhHjpXgUad"
      },
      "source": [
        "housing"
      ],
      "execution_count": null,
      "outputs": []
    },
    {
      "cell_type": "code",
      "metadata": {
        "id": "HSMQeQzVlAEA"
      },
      "source": [
        "X = pd.DataFrame(housing.data, columns=housing.feature_names)\r\n",
        "y = pd.DataFrame(housing.target)"
      ],
      "execution_count": null,
      "outputs": []
    },
    {
      "cell_type": "code",
      "metadata": {
        "id": "JlSewJ796yKi"
      },
      "source": [
        "#Análise exploratória"
      ],
      "execution_count": null,
      "outputs": []
    },
    {
      "cell_type": "code",
      "metadata": {
        "id": "-LVA3wjm5cmQ"
      },
      "source": [
        "X.head() # Perceber que a variável 'CHAS' é uma variável dummy"
      ],
      "execution_count": null,
      "outputs": []
    },
    {
      "cell_type": "code",
      "metadata": {
        "id": "QHN1NsA15prq"
      },
      "source": [
        "X.describe()"
      ],
      "execution_count": null,
      "outputs": []
    },
    {
      "cell_type": "code",
      "metadata": {
        "id": "8g6S4n7H6Da9"
      },
      "source": [
        "y.describe()"
      ],
      "execution_count": null,
      "outputs": []
    },
    {
      "cell_type": "code",
      "metadata": {
        "id": "X6c_xjcW65PZ"
      },
      "source": [
        "X.hist(bins=50, figsize=(20,15))\r\n",
        "plt.show()"
      ],
      "execution_count": null,
      "outputs": []
    },
    {
      "cell_type": "code",
      "metadata": {
        "id": "lMPizNFV8Qgv"
      },
      "source": [
        "#Separando o conjunto treino e teste (proporção 80:20, test_size = 0,20)\r\n",
        "from sklearn.model_selection import train_test_split\r\n",
        "X_train, X_test, y_train, y_test = train_test_split(X, y, test_size = 0.20, random_state = seed)"
      ],
      "execution_count": null,
      "outputs": []
    },
    {
      "cell_type": "code",
      "metadata": {
        "id": "TptDhbiqC-ET"
      },
      "source": [
        "#Visualização dos dados\r\n",
        "boston = X_train.copy()\r\n",
        "boston_prices = y_train.copy()\r\n",
        "boston_housing = pd.concat([boston, boston_prices], axis=1)"
      ],
      "execution_count": null,
      "outputs": []
    },
    {
      "cell_type": "code",
      "metadata": {
        "id": "YuKdFBadGWOA"
      },
      "source": [
        "corr_matrix = boston_housing.corr()\r\n",
        "corr_matrix"
      ],
      "execution_count": null,
      "outputs": []
    },
    {
      "cell_type": "code",
      "metadata": {
        "id": "fZIYzNvXIhlY"
      },
      "source": [
        "corr_matrix.iloc[:,-1].sort_values(ascending=False) #Alta correlação positiva entre 'RM'(Número de quartos por casa) e o preço. Alta correlação negativa entre população de baixo status e o preço."
      ],
      "execution_count": null,
      "outputs": []
    },
    {
      "cell_type": "code",
      "metadata": {
        "id": "7WXOs-cGPem_"
      },
      "source": [
        "boston_housing.plot(kind='scatter', x = 'RM', y=0, alpha = 0.2)\r\n",
        "plt.show()"
      ],
      "execution_count": null,
      "outputs": []
    },
    {
      "cell_type": "code",
      "metadata": {
        "id": "vUhplTjBSTbs"
      },
      "source": [
        "boston_housing.plot(kind='scatter', x='LSTAT', y = 0, alpha = 0.2)\r\n",
        "plt.show()"
      ],
      "execution_count": null,
      "outputs": []
    },
    {
      "cell_type": "code",
      "metadata": {
        "id": "XIFzoVj9UAMT"
      },
      "source": [
        "#Verificando existência de dados faltantes\r\n",
        "saw_incomplete_rows = boston_housing[boston_housing.isnull().any(axis=1)].head()\r\n",
        "saw_incomplete_rows\r\n",
        "#Não há dados faltantes"
      ],
      "execution_count": null,
      "outputs": []
    },
    {
      "cell_type": "code",
      "metadata": {
        "id": "A8_3bJXEVgbf"
      },
      "source": [
        "#Pipeline\r\n",
        "from sklearn.pipeline import Pipeline\r\n",
        "from sklearn.preprocessing import StandardScaler\r\n",
        "\r\n",
        "pipeline = Pipeline([(('std_scaler'), StandardScaler())])"
      ],
      "execution_count": null,
      "outputs": []
    },
    {
      "cell_type": "code",
      "metadata": {
        "id": "06adlrn2Wn3a"
      },
      "source": [
        "boston_prepared = pipeline.fit_transform(boston)"
      ],
      "execution_count": null,
      "outputs": []
    },
    {
      "cell_type": "code",
      "metadata": {
        "id": "vidiES3qXtUe"
      },
      "source": [
        "#Treinando o modelo\r\n",
        "from sklearn.linear_model import LinearRegression\r\n",
        "\r\n",
        "lin_reg = LinearRegression()\r\n",
        "lin_reg.fit(boston_prepared, boston_prices)"
      ],
      "execution_count": null,
      "outputs": []
    },
    {
      "cell_type": "code",
      "metadata": {
        "id": "-_SRZkMoYvCm"
      },
      "source": [
        "some_data = boston.iloc[:5]\r\n",
        "some_labels = boston_prices.iloc[:5]\r\n",
        "some_prepared_data = pipeline.transform(some_data)\r\n",
        "\r\n",
        "lin_reg.predict(some_prepared_data)"
      ],
      "execution_count": null,
      "outputs": []
    },
    {
      "cell_type": "code",
      "metadata": {
        "id": "qYYXsX5vZ9bZ"
      },
      "source": [
        "print('Label:',some_labels)"
      ],
      "execution_count": null,
      "outputs": []
    },
    {
      "cell_type": "code",
      "metadata": {
        "id": "DE6RO7LQapFn"
      },
      "source": [
        "#Utilizando métricas para avaliar o modelo\r\n",
        "\r\n",
        "from sklearn.metrics import mean_squared_error as MSE\r\n",
        "boston_predictons = lin_reg.predict(boston)\r\n",
        "lin_mse = MSE(boston_prices, boston_predictons)\r\n",
        "lin_rmse = np.sqrt(lin_mse)\r\n",
        "print(lin_mse, lin_rmse)\r\n"
      ],
      "execution_count": null,
      "outputs": []
    },
    {
      "cell_type": "code",
      "metadata": {
        "id": "poeFFKWEb8RQ"
      },
      "source": [
        "from sklearn.metrics import mean_absolute_error as MAE\r\n",
        "\r\n",
        "lin_mae = MAE(boston_prices, boston_predictons)\r\n",
        "lin_mae"
      ],
      "execution_count": null,
      "outputs": []
    },
    {
      "cell_type": "code",
      "metadata": {
        "id": "SKbS8fwjclin"
      },
      "source": [
        "#Testando outros modelos"
      ],
      "execution_count": null,
      "outputs": []
    },
    {
      "cell_type": "code",
      "metadata": {
        "id": "P4PZXeOPmbmg"
      },
      "source": [
        "from sklearn.tree import DecisionTreeRegressor\r\n",
        "\r\n",
        "tree_reg = DecisionTreeRegressor(random_state = seed)\r\n",
        "tree_reg.fit(boston_prepared, boston_prices)\r\n",
        "tree_prediction = tree_reg.predict(boston_prepared)"
      ],
      "execution_count": null,
      "outputs": []
    },
    {
      "cell_type": "code",
      "metadata": {
        "id": "HBmEZ9JRoZxg"
      },
      "source": [
        "tree_mse = MSE(boston_prices, tree_prediction)\r\n",
        "tree_mse"
      ],
      "execution_count": null,
      "outputs": []
    },
    {
      "cell_type": "code",
      "metadata": {
        "id": "ESeFpBy7pCW5"
      },
      "source": [
        "#Validação cruzada"
      ],
      "execution_count": null,
      "outputs": []
    },
    {
      "cell_type": "code",
      "metadata": {
        "id": "L115sXyupEII"
      },
      "source": [
        "from sklearn.model_selection import cross_val_score\r\n",
        "\r\n",
        "scores = cross_val_score(tree_reg, boston_prepared, boston_prices, cv = 10, scoring = 'neg_mean_squared_error')\r\n",
        "scores"
      ],
      "execution_count": null,
      "outputs": []
    },
    {
      "cell_type": "code",
      "metadata": {
        "id": "kzsv7WefpjTI"
      },
      "source": [
        "tree_rmse_scores = np.sqrt(-scores)\r\n",
        "tree_rmse_scores"
      ],
      "execution_count": null,
      "outputs": []
    },
    {
      "cell_type": "code",
      "metadata": {
        "id": "WzNmjCUjpxs7"
      },
      "source": [
        "def display_scores(scores):\r\n",
        "  print('Score:', scores)\r\n",
        "  print('Mean:', scores.mean())\r\n",
        "  print('SD:', scores.std())"
      ],
      "execution_count": null,
      "outputs": []
    },
    {
      "cell_type": "code",
      "metadata": {
        "id": "_stpsWypqT8o"
      },
      "source": [
        "#Para a Decision Tree\r\n",
        "display_scores(tree_rmse_scores)"
      ],
      "execution_count": null,
      "outputs": []
    },
    {
      "cell_type": "code",
      "metadata": {
        "id": "15YJwCHwq5sr"
      },
      "source": [
        "#Para a Regressão Linear\r\n",
        "lin_rmse_scores = np.sqrt(-cross_val_score(lin_reg, boston_prepared, boston_prices, scoring='neg_mean_squared_error', cv=10))\r\n",
        "display_scores(lin_rmse)"
      ],
      "execution_count": null,
      "outputs": []
    },
    {
      "cell_type": "code",
      "metadata": {
        "id": "YJOz_uuBsjVz"
      },
      "source": [
        "#Random Forest\r\n",
        "from sklearn.ensemble import RandomForestRegressor\r\n",
        "\r\n",
        "forest_reg = RandomForestRegressor(n_estimators = 10, random_state=seed)\r\n",
        "forest_reg.fit(boston_prepared, boston_prices)"
      ],
      "execution_count": null,
      "outputs": []
    },
    {
      "cell_type": "code",
      "metadata": {
        "id": "PeA1i6G9wBlL"
      },
      "source": [
        "forest_scores = cross_val_score(forest_reg, boston_prepared, boston_prices, cv=10, scoring='neg_mean_squared_error')\r\n",
        "forest_rmse = np.sqrt(-forest_scores)\r\n",
        "display_scores(forest_rmse)"
      ],
      "execution_count": null,
      "outputs": []
    },
    {
      "cell_type": "code",
      "metadata": {
        "id": "wtuVpvQwzOvr"
      },
      "source": [
        "#Aprimorando parâmetros da Floresta Aletória\r\n",
        "from sklearn.model_selection import GridSearchCV\r\n",
        "\r\n",
        "param_grid = [{'n_estimators': [3,10,30], 'max_features':[2, 4, 6, 8]}, \r\n",
        "              {'bootstrap': [False], 'n_estimators': [3,10], 'max_features':[2, 3, 4]}]\r\n",
        "\r\n",
        "forest_reg = RandomForestRegressor(random_state=seed)\r\n",
        "grid_search = GridSearchCV(forest_reg, param_grid, cv=5, scoring='neg_mean_squared_error', return_train_score = True)\r\n",
        "grid_search.fit(boston_prepared, boston_prices)"
      ],
      "execution_count": null,
      "outputs": []
    },
    {
      "cell_type": "code",
      "metadata": {
        "id": "YmD-k2p0kR9N"
      },
      "source": [
        "grid_search.best_params_"
      ],
      "execution_count": null,
      "outputs": []
    },
    {
      "cell_type": "code",
      "metadata": {
        "id": "6jVc0m3Vkc4k"
      },
      "source": [
        "grid_search.best_estimator_"
      ],
      "execution_count": null,
      "outputs": []
    },
    {
      "cell_type": "code",
      "metadata": {
        "id": "TYOKysJSkr1Q"
      },
      "source": [
        "cvres = grid_search.cv_results_\r\n",
        "for mean_score, params in zip(cvres['mean_test_score'], cvres['params']):\r\n",
        "  print(np.sqrt(-mean_score), params)"
      ],
      "execution_count": null,
      "outputs": []
    },
    {
      "cell_type": "code",
      "metadata": {
        "id": "OHiSVQfLmSCM"
      },
      "source": [
        "#Escolhendo o melhor modelo e finalizando"
      ],
      "execution_count": null,
      "outputs": []
    },
    {
      "cell_type": "code",
      "metadata": {
        "id": "SxVMu0PTm6oz"
      },
      "source": [
        "final_model = grid_search.best_estimator_\r\n",
        "\r\n",
        "X_test_prepared = pipeline.transform(X_test)\r\n",
        "final_predictions = final_model.predict(X_test_prepared)\r\n",
        "\r\n",
        "final_mse = MSE(y_test, final_predictions)\r\n",
        "final_rmse = np.sqrt(final_mse)"
      ],
      "execution_count": null,
      "outputs": []
    },
    {
      "cell_type": "code",
      "metadata": {
        "colab": {
          "base_uri": "https://localhost:8080/"
        },
        "id": "6f1Fultln6TZ",
        "outputId": "b949b07a-eeec-4571-9a1f-70831958f48f"
      },
      "source": [
        "print(final_mse, final_rmse)"
      ],
      "execution_count": null,
      "outputs": [
        {
          "output_type": "stream",
          "text": [
            "17.76077254901961 4.214353159029225\n"
          ],
          "name": "stdout"
        }
      ]
    }
  ]
}