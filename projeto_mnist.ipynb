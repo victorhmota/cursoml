{
  "nbformat": 4,
  "nbformat_minor": 0,
  "metadata": {
    "colab": {
      "name": "projeto_mnist.ipynb",
      "provenance": [],
      "authorship_tag": "ABX9TyNIxwr0Npb5JOdbAyGJ8+Pb",
      "include_colab_link": true
    },
    "kernelspec": {
      "name": "python3",
      "display_name": "Python 3"
    }
  },
  "cells": [
    {
      "cell_type": "markdown",
      "metadata": {
        "id": "view-in-github",
        "colab_type": "text"
      },
      "source": [
        "<a href=\"https://colab.research.google.com/github/victorhmota/cursoml/blob/main/projeto_mnist.ipynb\" target=\"_parent\"><img src=\"https://colab.research.google.com/assets/colab-badge.svg\" alt=\"Open In Colab\"/></a>"
      ]
    },
    {
      "cell_type": "code",
      "metadata": {
        "id": "8MS9lamrl8kX"
      },
      "source": [
        "import pandas as pd\r\n",
        "import numpy as np\r\n",
        "import matplotlib as mpl\r\n",
        "import matplotlib.pyplot as plt"
      ],
      "execution_count": null,
      "outputs": []
    },
    {
      "cell_type": "code",
      "metadata": {
        "colab": {
          "base_uri": "https://localhost:8080/"
        },
        "id": "C84mpsnhmFbg",
        "outputId": "64564e75-837c-4d44-9d19-2a8786fd9c8c"
      },
      "source": [
        "from sklearn.datasets import fetch_openml\r\n",
        "mnist = fetch_openml('mnist_784', version='1')\r\n",
        "mnist.keys()"
      ],
      "execution_count": null,
      "outputs": [
        {
          "output_type": "execute_result",
          "data": {
            "text/plain": [
              "dict_keys(['data', 'target', 'frame', 'feature_names', 'target_names', 'DESCR', 'details', 'categories', 'url'])"
            ]
          },
          "metadata": {
            "tags": []
          },
          "execution_count": 9
        }
      ]
    },
    {
      "cell_type": "code",
      "metadata": {
        "id": "rH-6zRgAmsC8"
      },
      "source": [
        "X = mnist['data']\r\n",
        "y = mnist['target']"
      ],
      "execution_count": null,
      "outputs": []
    },
    {
      "cell_type": "code",
      "metadata": {
        "id": "xwtGf0Guna6G"
      },
      "source": [
        "X.shape\r\n",
        "y.shape"
      ],
      "execution_count": null,
      "outputs": []
    },
    {
      "cell_type": "code",
      "metadata": {
        "id": "gsyuUIINns80"
      },
      "source": [
        "some_digit = X[0]\r\n",
        "some_digit_image = some_digit.reshape(28,28)\r\n",
        "\r\n",
        "plt.imshow(some_digit_image, cmap=mpl.cm.binary, interpolation='nearest')\r\n",
        "plt.axis('off')\r\n",
        "plt.show()"
      ],
      "execution_count": null,
      "outputs": []
    },
    {
      "cell_type": "code",
      "metadata": {
        "colab": {
          "base_uri": "https://localhost:8080/",
          "height": 35
        },
        "id": "-gJ6AIoJoYZb",
        "outputId": "ddfece3a-3941-44aa-e69d-bbeb996f256a"
      },
      "source": [
        "y[0]"
      ],
      "execution_count": null,
      "outputs": [
        {
          "output_type": "execute_result",
          "data": {
            "application/vnd.google.colaboratory.intrinsic+json": {
              "type": "string"
            },
            "text/plain": [
              "'5'"
            ]
          },
          "metadata": {
            "tags": []
          },
          "execution_count": 14
        }
      ]
    },
    {
      "cell_type": "code",
      "metadata": {
        "id": "XqVa3h7KoiOD"
      },
      "source": [
        "X_train, X_test, y_train, y_test = X[:60000], X[60000:], y[:60000], y[60000:]"
      ],
      "execution_count": null,
      "outputs": []
    },
    {
      "cell_type": "code",
      "metadata": {
        "id": "npPeJ2NZpPiJ"
      },
      "source": [
        "y_train_5 = (y_train == '5')\r\n",
        "y_test_5 = (y_test == '5')"
      ],
      "execution_count": null,
      "outputs": []
    },
    {
      "cell_type": "code",
      "metadata": {
        "colab": {
          "base_uri": "https://localhost:8080/",
          "height": 197
        },
        "id": "hyE013JSpcww",
        "outputId": "7c7bc3f5-1f39-4299-fafa-74ac726ccab3"
      },
      "source": [
        "from sklearn.linear_model import SGDClassifier\r\n",
        "\r\n",
        "sgd_clf = SGDClassifier(random_state=42)\r\n",
        "sgd_clf.fit(X_train, y_train_5)"
      ],
      "execution_count": null,
      "outputs": [
        {
          "output_type": "error",
          "ename": "NameError",
          "evalue": "ignored",
          "traceback": [
            "\u001b[0;31m---------------------------------------------------------------------------\u001b[0m",
            "\u001b[0;31mNameError\u001b[0m                                 Traceback (most recent call last)",
            "\u001b[0;32m<ipython-input-7-0a1a6b63ec93>\u001b[0m in \u001b[0;36m<module>\u001b[0;34m()\u001b[0m\n\u001b[1;32m      2\u001b[0m \u001b[0;34m\u001b[0m\u001b[0m\n\u001b[1;32m      3\u001b[0m \u001b[0msgd_clf\u001b[0m \u001b[0;34m=\u001b[0m \u001b[0mSGDClassifier\u001b[0m\u001b[0;34m(\u001b[0m\u001b[0mrandom_state\u001b[0m\u001b[0;34m=\u001b[0m\u001b[0;36m42\u001b[0m\u001b[0;34m)\u001b[0m\u001b[0;34m\u001b[0m\u001b[0;34m\u001b[0m\u001b[0m\n\u001b[0;32m----> 4\u001b[0;31m \u001b[0msgd_clf\u001b[0m\u001b[0;34m.\u001b[0m\u001b[0mfit\u001b[0m\u001b[0;34m(\u001b[0m\u001b[0mX_train\u001b[0m\u001b[0;34m,\u001b[0m \u001b[0my_train_5\u001b[0m\u001b[0;34m)\u001b[0m\u001b[0;34m\u001b[0m\u001b[0;34m\u001b[0m\u001b[0m\n\u001b[0m",
            "\u001b[0;31mNameError\u001b[0m: name 'X_train' is not defined"
          ]
        }
      ]
    },
    {
      "cell_type": "code",
      "metadata": {
        "colab": {
          "base_uri": "https://localhost:8080/"
        },
        "id": "NwUbB8d1tuJZ",
        "outputId": "d1b058db-0fc3-4709-9631-d443556ea890"
      },
      "source": [
        "sgd_clf.predict([some_digit])"
      ],
      "execution_count": null,
      "outputs": [
        {
          "output_type": "execute_result",
          "data": {
            "text/plain": [
              "array([ True])"
            ]
          },
          "metadata": {
            "tags": []
          },
          "execution_count": 37
        }
      ]
    },
    {
      "cell_type": "code",
      "metadata": {
        "colab": {
          "base_uri": "https://localhost:8080/"
        },
        "id": "scAmYES2t6P_",
        "outputId": "5a503f9b-db08-4f9c-a307-356c54886bcd"
      },
      "source": [
        "from sklearn.model_selection import cross_val_score\r\n",
        "\r\n",
        "cross_val_score(sgd_clf, X_train, y_train_5, cv=3, scoring='accuracy')"
      ],
      "execution_count": null,
      "outputs": [
        {
          "output_type": "execute_result",
          "data": {
            "text/plain": [
              "array([0.95035, 0.96035, 0.9604 ])"
            ]
          },
          "metadata": {
            "tags": []
          },
          "execution_count": 8
        }
      ]
    },
    {
      "cell_type": "code",
      "metadata": {
        "id": "nZnsKoq7vSp8"
      },
      "source": [
        "#Multiclass classification"
      ],
      "execution_count": null,
      "outputs": []
    },
    {
      "cell_type": "code",
      "metadata": {
        "id": "GS7Dz5jnvWAg"
      },
      "source": [
        "from sklearn.model_selection import GridSearchCV\r\n",
        "from sklearn.pipeline import Pipeline\r\n",
        "from sklearn.preprocessing import StandardScaler"
      ],
      "execution_count": null,
      "outputs": []
    },
    {
      "cell_type": "code",
      "metadata": {
        "id": "hbOfz6kGv5Nt"
      },
      "source": [
        "pipe = Pipeline([('std_scaler', StandardScaler()),\r\n",
        "                 ('estimator', SGDClassifier(max_iter=10, random_state=42))])\r\n",
        "\r\n",
        "param_grid = [{'estimator__loss':['hinge', 'log'], 'estimator__alpha':[1e-4, 1e-2, 1]}]"
      ],
      "execution_count": null,
      "outputs": []
    },
    {
      "cell_type": "code",
      "metadata": {
        "colab": {
          "base_uri": "https://localhost:8080/"
        },
        "id": "KDGUAHr0wbRN",
        "outputId": "135d9d7e-f3a8-416f-93c3-43e1021c38d5"
      },
      "source": [
        "grid_search = GridSearchCV(pipe, param_grid, cv=5, verbose=10, n_jobs=-1)\r\n",
        "grid_search.fit(X_train, y_train)"
      ],
      "execution_count": null,
      "outputs": [
        {
          "output_type": "stream",
          "text": [
            "Fitting 5 folds for each of 6 candidates, totalling 30 fits\n"
          ],
          "name": "stdout"
        },
        {
          "output_type": "stream",
          "text": [
            "[Parallel(n_jobs=-1)]: Using backend LokyBackend with 2 concurrent workers.\n",
            "[Parallel(n_jobs=-1)]: Done   1 tasks      | elapsed:   11.4s\n",
            "[Parallel(n_jobs=-1)]: Done   4 tasks      | elapsed:   21.5s\n",
            "[Parallel(n_jobs=-1)]: Done   9 tasks      | elapsed:  1.1min\n",
            "[Parallel(n_jobs=-1)]: Done  14 tasks      | elapsed:  1.5min\n",
            "[Parallel(n_jobs=-1)]: Done  21 tasks      | elapsed:  2.5min\n",
            "[Parallel(n_jobs=-1)]: Done  30 out of  30 | elapsed:  3.5min finished\n",
            "/usr/local/lib/python3.6/dist-packages/sklearn/linear_model/_stochastic_gradient.py:557: ConvergenceWarning: Maximum number of iteration reached before convergence. Consider increasing max_iter to improve the fit.\n",
            "  ConvergenceWarning)\n"
          ],
          "name": "stderr"
        },
        {
          "output_type": "execute_result",
          "data": {
            "text/plain": [
              "GridSearchCV(cv=5, error_score=nan,\n",
              "             estimator=Pipeline(memory=None,\n",
              "                                steps=[('std_scaler',\n",
              "                                        StandardScaler(copy=True,\n",
              "                                                       with_mean=True,\n",
              "                                                       with_std=True)),\n",
              "                                       ('estimator',\n",
              "                                        SGDClassifier(alpha=0.0001,\n",
              "                                                      average=False,\n",
              "                                                      class_weight=None,\n",
              "                                                      early_stopping=False,\n",
              "                                                      epsilon=0.1, eta0=0.0,\n",
              "                                                      fit_intercept=True,\n",
              "                                                      l1_ratio=0.15,\n",
              "                                                      learning_rate='optimal',\n",
              "                                                      loss='hinge', max_iter=10,\n",
              "                                                      n_iter_no_change=5,\n",
              "                                                      n_jobs=None, penalty='l2',\n",
              "                                                      power_t=0.5,\n",
              "                                                      random_state=42,\n",
              "                                                      shuffle=True, tol=0.001,\n",
              "                                                      validation_fraction=0.1,\n",
              "                                                      verbose=0,\n",
              "                                                      warm_start=False))],\n",
              "                                verbose=False),\n",
              "             iid='deprecated', n_jobs=-1,\n",
              "             param_grid=[{'estimator__alpha': [0.0001, 0.01, 1],\n",
              "                          'estimator__loss': ['hinge', 'log']}],\n",
              "             pre_dispatch='2*n_jobs', refit=True, return_train_score=False,\n",
              "             scoring=None, verbose=10)"
            ]
          },
          "metadata": {
            "tags": []
          },
          "execution_count": 17
        }
      ]
    },
    {
      "cell_type": "code",
      "metadata": {
        "colab": {
          "base_uri": "https://localhost:8080/",
          "height": 235
        },
        "id": "-cg8qFNY9Zl_",
        "outputId": "b30e6e84-02c4-465e-f56f-645657fbafd7"
      },
      "source": [
        "results = pd.concat([pd.DataFrame(grid_search.cv_results_[\"params\"]),\r\n",
        "                     pd.DataFrame(grid_search.cv_results_['std_test_score'], \r\n",
        "                                  columns=[\"Std\"]),\r\n",
        "                     pd.DataFrame(grid_search.cv_results_[\"mean_test_score\"], \r\n",
        "                                  columns=[\"Score\"])],axis=1)\r\n",
        "\r\n",
        "results.sort_values(\"Score\", ascending=False)"
      ],
      "execution_count": null,
      "outputs": [
        {
          "output_type": "execute_result",
          "data": {
            "text/html": [
              "<div>\n",
              "<style scoped>\n",
              "    .dataframe tbody tr th:only-of-type {\n",
              "        vertical-align: middle;\n",
              "    }\n",
              "\n",
              "    .dataframe tbody tr th {\n",
              "        vertical-align: top;\n",
              "    }\n",
              "\n",
              "    .dataframe thead th {\n",
              "        text-align: right;\n",
              "    }\n",
              "</style>\n",
              "<table border=\"1\" class=\"dataframe\">\n",
              "  <thead>\n",
              "    <tr style=\"text-align: right;\">\n",
              "      <th></th>\n",
              "      <th>estimator__alpha</th>\n",
              "      <th>estimator__loss</th>\n",
              "      <th>Std</th>\n",
              "      <th>Score</th>\n",
              "    </tr>\n",
              "  </thead>\n",
              "  <tbody>\n",
              "    <tr>\n",
              "      <th>0</th>\n",
              "      <td>0.0001</td>\n",
              "      <td>hinge</td>\n",
              "      <td>0.003646</td>\n",
              "      <td>0.910483</td>\n",
              "    </tr>\n",
              "    <tr>\n",
              "      <th>1</th>\n",
              "      <td>0.0001</td>\n",
              "      <td>log</td>\n",
              "      <td>0.003686</td>\n",
              "      <td>0.910350</td>\n",
              "    </tr>\n",
              "    <tr>\n",
              "      <th>2</th>\n",
              "      <td>0.0100</td>\n",
              "      <td>hinge</td>\n",
              "      <td>0.004371</td>\n",
              "      <td>0.895317</td>\n",
              "    </tr>\n",
              "    <tr>\n",
              "      <th>3</th>\n",
              "      <td>0.0100</td>\n",
              "      <td>log</td>\n",
              "      <td>0.005399</td>\n",
              "      <td>0.893650</td>\n",
              "    </tr>\n",
              "    <tr>\n",
              "      <th>4</th>\n",
              "      <td>1.0000</td>\n",
              "      <td>hinge</td>\n",
              "      <td>0.006804</td>\n",
              "      <td>0.867567</td>\n",
              "    </tr>\n",
              "    <tr>\n",
              "      <th>5</th>\n",
              "      <td>1.0000</td>\n",
              "      <td>log</td>\n",
              "      <td>0.007060</td>\n",
              "      <td>0.843767</td>\n",
              "    </tr>\n",
              "  </tbody>\n",
              "</table>\n",
              "</div>"
            ],
            "text/plain": [
              "   estimator__alpha estimator__loss       Std     Score\n",
              "0            0.0001           hinge  0.003646  0.910483\n",
              "1            0.0001             log  0.003686  0.910350\n",
              "2            0.0100           hinge  0.004371  0.895317\n",
              "3            0.0100             log  0.005399  0.893650\n",
              "4            1.0000           hinge  0.006804  0.867567\n",
              "5            1.0000             log  0.007060  0.843767"
            ]
          },
          "metadata": {
            "tags": []
          },
          "execution_count": 19
        }
      ]
    },
    {
      "cell_type": "code",
      "metadata": {
        "id": "O4v88Z5A_l8f"
      },
      "source": [
        "#Implementando o melhor modelo"
      ],
      "execution_count": null,
      "outputs": []
    },
    {
      "cell_type": "code",
      "metadata": {
        "colab": {
          "base_uri": "https://localhost:8080/"
        },
        "id": "V2M0ZfalLaNl",
        "outputId": "9fffb7a6-bf72-405c-f07e-fef500bf3a23"
      },
      "source": [
        "model = Pipeline([('std_scaler', StandardScaler()),\r\n",
        "                  ('estimator', SGDClassifier(max_iter=10, random_state=42))])\r\n",
        "model.set_params(**grid_search.best_params_)"
      ],
      "execution_count": null,
      "outputs": [
        {
          "output_type": "execute_result",
          "data": {
            "text/plain": [
              "Pipeline(memory=None,\n",
              "         steps=[('std_scaler',\n",
              "                 StandardScaler(copy=True, with_mean=True, with_std=True)),\n",
              "                ('estimator',\n",
              "                 SGDClassifier(alpha=0.0001, average=False, class_weight=None,\n",
              "                               early_stopping=False, epsilon=0.1, eta0=0.0,\n",
              "                               fit_intercept=True, l1_ratio=0.15,\n",
              "                               learning_rate='optimal', loss='hinge',\n",
              "                               max_iter=10, n_iter_no_change=5, n_jobs=None,\n",
              "                               penalty='l2', power_t=0.5, random_state=42,\n",
              "                               shuffle=True, tol=0.001, validation_fraction=0.1,\n",
              "                               verbose=0, warm_start=False))],\n",
              "         verbose=False)"
            ]
          },
          "metadata": {
            "tags": []
          },
          "execution_count": 20
        }
      ]
    },
    {
      "cell_type": "code",
      "metadata": {
        "colab": {
          "base_uri": "https://localhost:8080/"
        },
        "id": "ptvscMbrQaoT",
        "outputId": "5f4639b6-54b1-4bd9-b3e2-d4ccacba446f"
      },
      "source": [
        "model.fit(X_train, y_train)"
      ],
      "execution_count": null,
      "outputs": [
        {
          "output_type": "stream",
          "text": [
            "/usr/local/lib/python3.6/dist-packages/sklearn/linear_model/_stochastic_gradient.py:557: ConvergenceWarning: Maximum number of iteration reached before convergence. Consider increasing max_iter to improve the fit.\n",
            "  ConvergenceWarning)\n"
          ],
          "name": "stderr"
        },
        {
          "output_type": "execute_result",
          "data": {
            "text/plain": [
              "Pipeline(memory=None,\n",
              "         steps=[('std_scaler',\n",
              "                 StandardScaler(copy=True, with_mean=True, with_std=True)),\n",
              "                ('estimator',\n",
              "                 SGDClassifier(alpha=0.0001, average=False, class_weight=None,\n",
              "                               early_stopping=False, epsilon=0.1, eta0=0.0,\n",
              "                               fit_intercept=True, l1_ratio=0.15,\n",
              "                               learning_rate='optimal', loss='hinge',\n",
              "                               max_iter=10, n_iter_no_change=5, n_jobs=None,\n",
              "                               penalty='l2', power_t=0.5, random_state=42,\n",
              "                               shuffle=True, tol=0.001, validation_fraction=0.1,\n",
              "                               verbose=0, warm_start=False))],\n",
              "         verbose=False)"
            ]
          },
          "metadata": {
            "tags": []
          },
          "execution_count": 21
        }
      ]
    },
    {
      "cell_type": "code",
      "metadata": {
        "colab": {
          "base_uri": "https://localhost:8080/"
        },
        "id": "NZpWmIHkTG3U",
        "outputId": "db898118-e167-4b7c-c208-031c49a3411e"
      },
      "source": [
        "some_digit = X_test[0]\r\n",
        "model.predict([some_digit])"
      ],
      "execution_count": null,
      "outputs": [
        {
          "output_type": "execute_result",
          "data": {
            "text/plain": [
              "array(['7'], dtype='<U1')"
            ]
          },
          "metadata": {
            "tags": []
          },
          "execution_count": 24
        }
      ]
    },
    {
      "cell_type": "code",
      "metadata": {
        "colab": {
          "base_uri": "https://localhost:8080/",
          "height": 35
        },
        "id": "DKCW8YB_TdAC",
        "outputId": "dd43442c-9d17-4bee-ffa5-a91ee0b52d92"
      },
      "source": [
        "y_test[0]"
      ],
      "execution_count": null,
      "outputs": [
        {
          "output_type": "execute_result",
          "data": {
            "application/vnd.google.colaboratory.intrinsic+json": {
              "type": "string"
            },
            "text/plain": [
              "'7'"
            ]
          },
          "metadata": {
            "tags": []
          },
          "execution_count": 25
        }
      ]
    },
    {
      "cell_type": "code",
      "metadata": {
        "id": "kTxmpgoYZFlw"
      },
      "source": [
        "#Testando esquema OvO"
      ],
      "execution_count": null,
      "outputs": []
    },
    {
      "cell_type": "code",
      "metadata": {
        "colab": {
          "base_uri": "https://localhost:8080/"
        },
        "id": "N0mr_Mo-adFi",
        "outputId": "2a153750-4513-4f77-e46d-f48deb0965a2"
      },
      "source": [
        "from sklearn.multiclass import OneVsOneClassifier\r\n",
        "\r\n",
        "model = Pipeline([('std_scaler', StandardScaler()), ('estimator', SGDClassifier(max_iter = 1000, random_state=42))])\r\n",
        "model.set_params(**grid_search.best_params_)\r\n",
        "\r\n",
        "ovo_clf = OneVsOneClassifier(model)\r\n",
        "\r\n",
        "ovo_clf.fit(X_train, y_train)"
      ],
      "execution_count": null,
      "outputs": [
        {
          "output_type": "execute_result",
          "data": {
            "text/plain": [
              "OneVsOneClassifier(estimator=Pipeline(memory=None,\n",
              "                                      steps=[('std_scaler',\n",
              "                                              StandardScaler(copy=True,\n",
              "                                                             with_mean=True,\n",
              "                                                             with_std=True)),\n",
              "                                             ('estimator',\n",
              "                                              SGDClassifier(alpha=0.0001,\n",
              "                                                            average=False,\n",
              "                                                            class_weight=None,\n",
              "                                                            early_stopping=False,\n",
              "                                                            epsilon=0.1,\n",
              "                                                            eta0=0.0,\n",
              "                                                            fit_intercept=True,\n",
              "                                                            l1_ratio=0.15,\n",
              "                                                            learning_rate='optimal',\n",
              "                                                            loss='hinge',\n",
              "                                                            max_iter=1000,\n",
              "                                                            n_iter_no_change=5,\n",
              "                                                            n_jobs=None,\n",
              "                                                            penalty='l2',\n",
              "                                                            power_t=0.5,\n",
              "                                                            random_state=42,\n",
              "                                                            shuffle=True,\n",
              "                                                            tol=0.001,\n",
              "                                                            validation_fraction=0.1,\n",
              "                                                            verbose=0,\n",
              "                                                            warm_start=False))],\n",
              "                                      verbose=False),\n",
              "                   n_jobs=None)"
            ]
          },
          "metadata": {
            "tags": []
          },
          "execution_count": 36
        }
      ]
    },
    {
      "cell_type": "code",
      "metadata": {
        "id": "ynFzTuPndTJr"
      },
      "source": [
        "from sklearn.model_selection import cross_val_score\r\n",
        "\r\n",
        "scores = cross_val_score(ovo_clf, X_train, y_train, cv=5)"
      ],
      "execution_count": null,
      "outputs": []
    },
    {
      "cell_type": "code",
      "metadata": {
        "colab": {
          "base_uri": "https://localhost:8080/"
        },
        "id": "6d7caNJphd27",
        "outputId": "a19e3308-ddd2-4ee8-e851-56a14e4cce36"
      },
      "source": [
        "scores"
      ],
      "execution_count": null,
      "outputs": [
        {
          "output_type": "execute_result",
          "data": {
            "text/plain": [
              "array([0.92016667, 0.91208333, 0.91791667, 0.91425   , 0.91925   ])"
            ]
          },
          "metadata": {
            "tags": []
          },
          "execution_count": 33
        }
      ]
    },
    {
      "cell_type": "code",
      "metadata": {
        "colab": {
          "base_uri": "https://localhost:8080/"
        },
        "id": "cH7lnlF8g-vp",
        "outputId": "b2131a6c-b520-4206-d8d8-4efa9a6b8f33"
      },
      "source": [
        "from sklearn.metrics import confusion_matrix\r\n",
        "y_pred = ovo_clf.predict(X_test)\r\n",
        "conf_matrix = confusion_matrix(y_test, y_pred)\r\n",
        "conf_matrix"
      ],
      "execution_count": null,
      "outputs": [
        {
          "output_type": "execute_result",
          "data": {
            "text/plain": [
              "array([[ 944,    0,   10,    4,    1,   10,    8,    1,    2,    0],\n",
              "       [   0, 1108,   11,    4,    0,    1,    1,    3,    7,    0],\n",
              "       [   4,    3,  963,   19,    5,    3,    6,    8,   19,    2],\n",
              "       [   1,    0,   12,  944,    0,   20,    2,    7,   20,    4],\n",
              "       [   2,    1,   13,    1,  927,    0,    2,    8,    9,   19],\n",
              "       [   8,    2,    5,   43,    5,  777,   14,    3,   29,    6],\n",
              "       [   5,    3,   25,    4,    5,   13,  902,    0,    1,    0],\n",
              "       [   0,    2,   24,   18,    6,    0,    1,  957,    4,   16],\n",
              "       [   3,    2,   11,   39,    7,   22,    6,    6,  872,    6],\n",
              "       [   7,    5,    6,   12,   37,    7,    0,   41,   18,  876]])"
            ]
          },
          "metadata": {
            "tags": []
          },
          "execution_count": 37
        }
      ]
    },
    {
      "cell_type": "code",
      "metadata": {
        "colab": {
          "base_uri": "https://localhost:8080/"
        },
        "id": "6x_kML-sklka",
        "outputId": "53df6d65-79e9-4143-d35d-ac3cf6c79113"
      },
      "source": [
        "from sklearn.metrics import accuracy_score\r\n",
        "\r\n",
        "accuracy_score(y_test, y_pred)"
      ],
      "execution_count": null,
      "outputs": [
        {
          "output_type": "execute_result",
          "data": {
            "text/plain": [
              "0.927"
            ]
          },
          "metadata": {
            "tags": []
          },
          "execution_count": 38
        }
      ]
    },
    {
      "cell_type": "code",
      "metadata": {
        "id": "C0tTwfCJpphS"
      },
      "source": [
        "#Implementando o 'data argumentation'"
      ],
      "execution_count": null,
      "outputs": []
    },
    {
      "cell_type": "code",
      "metadata": {
        "id": "eXx-W2LgqYr2"
      },
      "source": [
        "from scipy.ndimage.interpolation import shift"
      ],
      "execution_count": null,
      "outputs": []
    },
    {
      "cell_type": "code",
      "metadata": {
        "id": "wu8AzNyFqku2"
      },
      "source": [
        "def shift_image(image, dx, dy):\r\n",
        "  image = image.reshape((28,28))\r\n",
        "  shift_image = shift(image, [dy, dx], cval=0, mode='constant')\r\n",
        "  return shift_image.reshape([-1])"
      ],
      "execution_count": null,
      "outputs": []
    },
    {
      "cell_type": "code",
      "metadata": {
        "id": "jMfXkCf9uGJf"
      },
      "source": [
        "X_train_augmented = [image for image in X_train]\r\n",
        "y_train_augmented = [image for image in y_train]"
      ],
      "execution_count": null,
      "outputs": []
    },
    {
      "cell_type": "code",
      "metadata": {
        "id": "o0y_k8uC1e7N"
      },
      "source": [
        ""
      ],
      "execution_count": null,
      "outputs": []
    },
    {
      "cell_type": "code",
      "metadata": {
        "id": "xmtjbGbF0HwR"
      },
      "source": [
        "for dx, dy in ((1,0), (-1, 0), (0, 1), (0, -1)):\r\n",
        "  for image, label in zip(X_train, y_train):\r\n",
        "    X_train_augmented.append(shift_image(image, dx, dy))\r\n",
        "    y_train_augmented.append(label)"
      ],
      "execution_count": null,
      "outputs": []
    },
    {
      "cell_type": "code",
      "metadata": {
        "colab": {
          "base_uri": "https://localhost:8080/"
        },
        "id": "bcrk0bv41uAo",
        "outputId": "0fbd629c-d2e2-4daf-8a62-adc294cd1752"
      },
      "source": [
        "len(X_train_augmented)"
      ],
      "execution_count": null,
      "outputs": [
        {
          "output_type": "execute_result",
          "data": {
            "text/plain": [
              "300000"
            ]
          },
          "metadata": {
            "tags": []
          },
          "execution_count": 19
        }
      ]
    },
    {
      "cell_type": "code",
      "metadata": {
        "id": "5yu0YJXRzuaN"
      },
      "source": [
        "#Embaralhamento\r\n",
        "shuffle_index = np.random.permutation(len(X_train_augmented))\r\n",
        "X_train_augmented = np.array(X_train_augmented)[shuffle_index]\r\n",
        "y_train_augmented = np.array(y_train_augmented)[shuffle_index]"
      ],
      "execution_count": null,
      "outputs": []
    },
    {
      "cell_type": "code",
      "metadata": {
        "id": "vbXhK5lv3gCV"
      },
      "source": [
        "#Procurando por melhores parâmetros com o gridsearch"
      ],
      "execution_count": null,
      "outputs": []
    },
    {
      "cell_type": "code",
      "metadata": {
        "id": "ysxW6Y1k5BYM"
      },
      "source": [
        "from sklearn.linear_model import SGDClassifier"
      ],
      "execution_count": null,
      "outputs": []
    },
    {
      "cell_type": "code",
      "metadata": {
        "colab": {
          "base_uri": "https://localhost:8080/"
        },
        "id": "hOSLCq_r3mIv",
        "outputId": "e6d30bb5-1509-4e4a-9a72-16963167a381"
      },
      "source": [
        "grid_search2 = GridSearchCV(pipe, param_grid, cv=3, verbose=10, n_jobs=-1)\r\n",
        "grid_search2.fit(X_train_augmented, y_train_augmented)"
      ],
      "execution_count": null,
      "outputs": [
        {
          "output_type": "stream",
          "text": [
            "Fitting 3 folds for each of 6 candidates, totalling 18 fits\n"
          ],
          "name": "stdout"
        },
        {
          "output_type": "stream",
          "text": [
            "[Parallel(n_jobs=-1)]: Using backend LokyBackend with 2 concurrent workers.\n",
            "[Parallel(n_jobs=-1)]: Done   1 tasks      | elapsed:   49.1s\n",
            "[Parallel(n_jobs=-1)]: Done   4 tasks      | elapsed:  2.2min\n",
            "[Parallel(n_jobs=-1)]: Done   9 tasks      | elapsed:  4.4min\n",
            "[Parallel(n_jobs=-1)]: Done  14 tasks      | elapsed:  7.4min\n",
            "[Parallel(n_jobs=-1)]: Done  18 out of  18 | elapsed:  9.6min finished\n",
            "/usr/local/lib/python3.6/dist-packages/sklearn/linear_model/_stochastic_gradient.py:557: ConvergenceWarning: Maximum number of iteration reached before convergence. Consider increasing max_iter to improve the fit.\n",
            "  ConvergenceWarning)\n"
          ],
          "name": "stderr"
        },
        {
          "output_type": "execute_result",
          "data": {
            "text/plain": [
              "GridSearchCV(cv=3, error_score=nan,\n",
              "             estimator=Pipeline(memory=None,\n",
              "                                steps=[('std_scaler',\n",
              "                                        StandardScaler(copy=True,\n",
              "                                                       with_mean=True,\n",
              "                                                       with_std=True)),\n",
              "                                       ('estimator',\n",
              "                                        SGDClassifier(alpha=0.0001,\n",
              "                                                      average=False,\n",
              "                                                      class_weight=None,\n",
              "                                                      early_stopping=False,\n",
              "                                                      epsilon=0.1, eta0=0.0,\n",
              "                                                      fit_intercept=True,\n",
              "                                                      l1_ratio=0.15,\n",
              "                                                      learning_rate='optimal',\n",
              "                                                      loss='hinge', max_iter=10,\n",
              "                                                      n_iter_no_change=5,\n",
              "                                                      n_jobs=None, penalty='l2',\n",
              "                                                      power_t=0.5,\n",
              "                                                      random_state=42,\n",
              "                                                      shuffle=True, tol=0.001,\n",
              "                                                      validation_fraction=0.1,\n",
              "                                                      verbose=0,\n",
              "                                                      warm_start=False))],\n",
              "                                verbose=False),\n",
              "             iid='deprecated', n_jobs=-1,\n",
              "             param_grid=[{'estimator__alpha': [0.0001, 0.01, 1],\n",
              "                          'estimator__loss': ['hinge', 'log']}],\n",
              "             pre_dispatch='2*n_jobs', refit=True, return_train_score=False,\n",
              "             scoring=None, verbose=10)"
            ]
          },
          "metadata": {
            "tags": []
          },
          "execution_count": 27
        }
      ]
    },
    {
      "cell_type": "code",
      "metadata": {
        "colab": {
          "base_uri": "https://localhost:8080/"
        },
        "id": "H00uF_pf_jHZ",
        "outputId": "4bdddc14-077b-4cb9-8ac5-53b3a914b1e5"
      },
      "source": [
        "grid_search2.best_params_"
      ],
      "execution_count": null,
      "outputs": [
        {
          "output_type": "execute_result",
          "data": {
            "text/plain": [
              "{'estimator__alpha': 0.0001, 'estimator__loss': 'log'}"
            ]
          },
          "metadata": {
            "tags": []
          },
          "execution_count": 28
        }
      ]
    },
    {
      "cell_type": "code",
      "metadata": {
        "colab": {
          "base_uri": "https://localhost:8080/"
        },
        "id": "ibyXfVfh_s9A",
        "outputId": "62680100-de47-475b-b6d9-6c90ffc1c6ba"
      },
      "source": [
        "model2 = Pipeline([('std_scaler', StandardScaler()), ('estimator', SGDClassifier(max_iter=10, random_state=42))])\r\n",
        "\r\n",
        "model2.set_params(**grid_search2.best_params_)\r\n",
        "model2.fit(X_train_augmented, y_train_augmented)"
      ],
      "execution_count": null,
      "outputs": [
        {
          "output_type": "stream",
          "text": [
            "/usr/local/lib/python3.6/dist-packages/sklearn/linear_model/_stochastic_gradient.py:557: ConvergenceWarning: Maximum number of iteration reached before convergence. Consider increasing max_iter to improve the fit.\n",
            "  ConvergenceWarning)\n"
          ],
          "name": "stderr"
        },
        {
          "output_type": "execute_result",
          "data": {
            "text/plain": [
              "Pipeline(memory=None,\n",
              "         steps=[('std_scaler',\n",
              "                 StandardScaler(copy=True, with_mean=True, with_std=True)),\n",
              "                ('estimator',\n",
              "                 SGDClassifier(alpha=0.0001, average=False, class_weight=None,\n",
              "                               early_stopping=False, epsilon=0.1, eta0=0.0,\n",
              "                               fit_intercept=True, l1_ratio=0.15,\n",
              "                               learning_rate='optimal', loss='log', max_iter=10,\n",
              "                               n_iter_no_change=5, n_jobs=None, penalty='l2',\n",
              "                               power_t=0.5, random_state=42, shuffle=True,\n",
              "                               tol=0.001, validation_fraction=0.1, verbose=0,\n",
              "                               warm_start=False))],\n",
              "         verbose=False)"
            ]
          },
          "metadata": {
            "tags": []
          },
          "execution_count": 29
        }
      ]
    },
    {
      "cell_type": "code",
      "metadata": {
        "id": "7bCg1-XnAqJV"
      },
      "source": [
        "some_digit2 = X_test[0]\r\n",
        "digit_predict = model2.predict([some_digit2])"
      ],
      "execution_count": null,
      "outputs": []
    },
    {
      "cell_type": "code",
      "metadata": {
        "colab": {
          "base_uri": "https://localhost:8080/"
        },
        "id": "non0IikuKkdJ",
        "outputId": "5360a07e-21e1-4cab-d254-2ef15a03ad3a"
      },
      "source": [
        "digit_predict"
      ],
      "execution_count": null,
      "outputs": [
        {
          "output_type": "execute_result",
          "data": {
            "text/plain": [
              "array(['7'], dtype='<U1')"
            ]
          },
          "metadata": {
            "tags": []
          },
          "execution_count": 31
        }
      ]
    },
    {
      "cell_type": "code",
      "metadata": {
        "colab": {
          "base_uri": "https://localhost:8080/",
          "height": 35
        },
        "id": "o2oMbaktKq4u",
        "outputId": "85ae0229-5846-44ac-efc3-51b455852780"
      },
      "source": [
        "y_test[0]"
      ],
      "execution_count": null,
      "outputs": [
        {
          "output_type": "execute_result",
          "data": {
            "application/vnd.google.colaboratory.intrinsic+json": {
              "type": "string"
            },
            "text/plain": [
              "'7'"
            ]
          },
          "metadata": {
            "tags": []
          },
          "execution_count": 32
        }
      ]
    },
    {
      "cell_type": "code",
      "metadata": {
        "id": "XJqLMyxxDU-d"
      },
      "source": [
        "#Utilizando método OvO"
      ],
      "execution_count": null,
      "outputs": []
    },
    {
      "cell_type": "code",
      "metadata": {
        "id": "eAroie_HLLLC"
      },
      "source": [
        "from sklearn.linear_model import SGDClassifier"
      ],
      "execution_count": null,
      "outputs": []
    },
    {
      "cell_type": "code",
      "metadata": {
        "colab": {
          "base_uri": "https://localhost:8080/"
        },
        "id": "TPIWo_2lDXae",
        "outputId": "7f70bf5f-b90f-4061-9cf7-ad74f1dd4f20"
      },
      "source": [
        "from sklearn.multiclass import OneVsOneClassifier\r\n",
        "model2 = Pipeline([('std_scaler', StandardScaler()), ('estimator', SGDClassifier(max_iter = 1000, random_state=42))])\r\n",
        "model2.set_params(**grid_search2.best_params_)\r\n",
        "ovo_clf = OneVsOneClassifier(model2)\r\n",
        "\r\n",
        "ovo_clf.fit(X_train_augmented, y_train_augmented)\r\n"
      ],
      "execution_count": null,
      "outputs": [
        {
          "output_type": "execute_result",
          "data": {
            "text/plain": [
              "OneVsOneClassifier(estimator=Pipeline(memory=None,\n",
              "                                      steps=[('std_scaler',\n",
              "                                              StandardScaler(copy=True,\n",
              "                                                             with_mean=True,\n",
              "                                                             with_std=True)),\n",
              "                                             ('estimator',\n",
              "                                              SGDClassifier(alpha=0.0001,\n",
              "                                                            average=False,\n",
              "                                                            class_weight=None,\n",
              "                                                            early_stopping=False,\n",
              "                                                            epsilon=0.1,\n",
              "                                                            eta0=0.0,\n",
              "                                                            fit_intercept=True,\n",
              "                                                            l1_ratio=0.15,\n",
              "                                                            learning_rate='optimal',\n",
              "                                                            loss='log',\n",
              "                                                            max_iter=1000,\n",
              "                                                            n_iter_no_change=5,\n",
              "                                                            n_jobs=None,\n",
              "                                                            penalty='l2',\n",
              "                                                            power_t=0.5,\n",
              "                                                            random_state=42,\n",
              "                                                            shuffle=True,\n",
              "                                                            tol=0.001,\n",
              "                                                            validation_fraction=0.1,\n",
              "                                                            verbose=0,\n",
              "                                                            warm_start=False))],\n",
              "                                      verbose=False),\n",
              "                   n_jobs=None)"
            ]
          },
          "metadata": {
            "tags": []
          },
          "execution_count": 39
        }
      ]
    },
    {
      "cell_type": "code",
      "metadata": {
        "id": "RRV3e3oVXG98"
      },
      "source": [
        "y_pred2 = ovo_clf.predict(X_test)"
      ],
      "execution_count": null,
      "outputs": []
    },
    {
      "cell_type": "code",
      "metadata": {
        "colab": {
          "base_uri": "https://localhost:8080/"
        },
        "id": "7cjUa5RhHnih",
        "outputId": "37e6e5f4-09a0-414b-eab9-ae791d2683ad"
      },
      "source": [
        "from sklearn.metrics import confusion_matrix\r\n",
        "conf_matrix2 = confusion_matrix(y_test, y_pred2)\r\n",
        "conf_matrix2"
      ],
      "execution_count": null,
      "outputs": [
        {
          "output_type": "execute_result",
          "data": {
            "text/plain": [
              "array([[ 965,    1,    1,    0,    1,    6,    2,    2,    2,    0],\n",
              "       [   0, 1124,    4,    1,    0,    1,    2,    0,    3,    0],\n",
              "       [   6,    3,  955,   11,   13,    1,    7,   11,   22,    3],\n",
              "       [   1,    4,    9,  925,    2,   28,    2,   16,   21,    2],\n",
              "       [   1,    1,    7,    1,  944,    0,    5,    2,    1,   20],\n",
              "       [   9,    4,    6,   38,    6,  802,    9,    1,   12,    5],\n",
              "       [  12,    6,    5,    1,    5,   13,  914,    1,    1,    0],\n",
              "       [   1,    4,   14,    6,    6,    0,    0,  974,    0,   23],\n",
              "       [   6,    5,    5,   19,   10,   20,    6,   10,  887,    6],\n",
              "       [   4,    9,    3,    8,   23,    3,    0,   18,    4,  937]])"
            ]
          },
          "metadata": {
            "tags": []
          },
          "execution_count": 52
        }
      ]
    },
    {
      "cell_type": "code",
      "metadata": {
        "colab": {
          "base_uri": "https://localhost:8080/"
        },
        "id": "eSdujCvSXFbV",
        "outputId": "4a14698e-3d49-45c0-e7f4-96b20fa8b79d"
      },
      "source": [
        "from sklearn.metrics import accuracy_score\r\n",
        "accuracy_score(y_test, y_pred2)"
      ],
      "execution_count": null,
      "outputs": [
        {
          "output_type": "execute_result",
          "data": {
            "text/plain": [
              "0.9427"
            ]
          },
          "metadata": {
            "tags": []
          },
          "execution_count": 54
        }
      ]
    },
    {
      "cell_type": "code",
      "metadata": {
        "id": "VDkyBge-XgoY"
      },
      "source": [
        "#Comparando sem 'data argumentation' e com 'data argumentation'."
      ],
      "execution_count": null,
      "outputs": []
    },
    {
      "cell_type": "markdown",
      "metadata": {
        "id": "1EJXzmVTX-_Z"
      },
      "source": [
        "Os resultados anteriores apontaram acurácia de 0.927, enquanto os resultados utilizando 'data argumentation' encontraram 0.9427. Em resumo, a utilização desse método representou um ganho de 0.0157 de acurácia. "
      ]
    }
  ]
}